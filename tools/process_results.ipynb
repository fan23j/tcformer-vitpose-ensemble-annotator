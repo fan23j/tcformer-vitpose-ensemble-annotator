{
 "cells": [
  {
   "cell_type": "code",
   "execution_count": 169,
   "metadata": {},
   "outputs": [],
   "source": [
    "import json\n",
    "import numpy as np"
   ]
  },
  {
   "cell_type": "code",
   "execution_count": 170,
   "metadata": {},
   "outputs": [],
   "source": [
    "with open(\"results.json\", \"r\") as f:\n",
    "    data = json.load(f)"
   ]
  },
  {
   "cell_type": "code",
   "execution_count": 171,
   "metadata": {},
   "outputs": [],
   "source": [
    "with open(\"/dfs/data/data/coco_wb/annotations/coco_wholebody_val.json\") as f:\n",
    "    template = json.load(f)"
   ]
  },
  {
   "cell_type": "markdown",
   "metadata": {},
   "source": [
    "### Extract Information from Data"
   ]
  },
  {
   "cell_type": "code",
   "execution_count": 172,
   "metadata": {},
   "outputs": [],
   "source": [
    "keypoints = []\n",
    "bboxes = []\n",
    "images = []\n",
    "for annot, image in zip(data[\"annotations\"], data[\"images\"]):\n",
    "    try:\n",
    "        keypoints.append([arr['__ndarray__'] for arr in annot[0][\"keypoints\"][:23]])\n",
    "        bboxes.append([arr for arr in annot[0][\"bbox\"]['__ndarray__']])\n",
    "        images.append(image)\n",
    "    except:\n",
    "        continue"
   ]
  },
  {
   "cell_type": "markdown",
   "metadata": {},
   "source": [
    "### Build json"
   ]
  },
  {
   "cell_type": "code",
   "execution_count": 173,
   "metadata": {},
   "outputs": [],
   "source": [
    "json_images = []\n",
    "for i,image in enumerate(images):\n",
    "    json_images.append(\n",
    "        dict({\n",
    "            \"file_name\": image,\n",
    "            \"id\": i\n",
    "        }\n",
    "        )\n",
    "    )"
   ]
  },
  {
   "cell_type": "code",
   "execution_count": 174,
   "metadata": {},
   "outputs": [],
   "source": [
    "json_annotations = []\n",
    "for i, annot in enumerate(zip(bboxes, keypoints)):\n",
    "    # convert bbox to coco format\n",
    "    coco_bbox = [\n",
    "        annot[0][0],\n",
    "        annot[0][1],\n",
    "        annot[0][2] - annot[0][0],\n",
    "        annot[0][3] - annot[0][1],\n",
    "    ]\n",
    "    \n",
    "    # convert keypoints to coco format\n",
    "    keypoints = [[subarray[0], subarray[1], 2] if subarray[2] >= 0.3 else [0,0,0] for subarray in annot[1]]\n",
    "    flattened_keypoints = [item for sublist in keypoints for item in sublist]\n",
    "    \n",
    "    num_keypoints = 0\n",
    "    for i in range(2, len(flattened_keypoints), 3):\n",
    "        if flattened_keypoints[i] == 2:\n",
    "            num_keypoints += 1\n",
    "\n",
    "    json_annotations.append(\n",
    "        dict(\n",
    "            {\n",
    "                \"num_keypoints\": num_keypoints,\n",
    "                \"area\": coco_bbox[2] * coco_bbox[3],\n",
    "                \"cvat_bbox\": annot[0],\n",
    "                \"bbox\": coco_bbox,\n",
    "                \"image_id\": i,\n",
    "                \"id\": i,\n",
    "                \"category_id\": 1,\n",
    "                \"iscrowd\": 0,\n",
    "                \"keypoints\": flattened_keypoints,\n",
    "            }\n",
    "        )\n",
    "    )"
   ]
  },
  {
   "cell_type": "code",
   "execution_count": 175,
   "metadata": {},
   "outputs": [],
   "source": [
    "template[\"images\"] = json_images\n",
    "template[\"annotations\"] = json_annotations"
   ]
  },
  {
   "cell_type": "code",
   "execution_count": 176,
   "metadata": {},
   "outputs": [],
   "source": [
    "with open(\"coco_results.json\", \"w\") as out:\n",
    "    json.dump(template, out)"
   ]
  },
  {
   "cell_type": "code",
   "execution_count": null,
   "metadata": {},
   "outputs": [],
   "source": []
  },
  {
   "cell_type": "code",
   "execution_count": null,
   "metadata": {},
   "outputs": [],
   "source": []
  }
 ],
 "metadata": {
  "kernelspec": {
   "display_name": "Python 3",
   "language": "python",
   "name": "python3"
  },
  "language_info": {
   "codemirror_mode": {
    "name": "ipython",
    "version": 3
   },
   "file_extension": ".py",
   "mimetype": "text/x-python",
   "name": "python",
   "nbconvert_exporter": "python",
   "pygments_lexer": "ipython3",
   "version": "3.6.10"
  }
 },
 "nbformat": 4,
 "nbformat_minor": 4
}
